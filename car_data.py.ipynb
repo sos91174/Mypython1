{
 "cells": [
  {
   "cell_type": "code",
   "execution_count": 2,
   "metadata": {},
   "outputs": [],
   "source": [
    "car={}\n",
    "\n",
    "def car_name():\n",
    "\n",
    "    name=input(\"請輸入車子名字:\")\n",
    "    year=input(\"請輸入年份:\")\n",
    "    door=input(\"請輸入幾門車:\")\n",
    "    color=input(\"請輸入車子顏色:\")\n",
    "    cc=input(\"請輸入車子CC數:\")\n",
    "    price=input(\"請輸入價錢(萬):\")\n",
    "\n",
    "\n",
    "    fn = 'data0507.csv'#複寫到CSV\n",
    "    with open(fn,'a',newline = '',encoding='utf8') as csvFile:\n",
    "        csvWriter=csv.writer(csvFile)\n",
    "        csvWriter.writerow([\"{d1}\".format(d1=name),\"{d2}\".format(d2=year),\"{d3}\".format(d3=door),\n",
    "                           \"{d4}\".format(d4=color),\"{d5}\".format(d5=cc),\"{d6}\".format(d6=price)])\n",
    "    print(\"\")#空格用\n",
    "    print(\"你已經新增完畢\")\n",
    "    print(\"▼▼▼▼▼▼以下列表是本廠目前有販售的車輛▼▼▼▼▼▼\")\n",
    "    print(\"▼▼▼▼▼▼以下列表是本廠目前有販售的車輛▼▼▼▼▼▼\")\n",
    "    menu=pd.read_csv('data0507.csv',engine='python',encoding='utf8')\n",
    "    \n",
    "    print(menu)\n",
    "    \n",
    "    \n",
    "def search():#查詢車子清單\n",
    "    \n",
    "    print(\"\")#空格用\n",
    "    print(\"\")\n",
    "    print(\"▼▼▼▼▼▼以下列表是本廠目前有販售的車輛▼▼▼▼▼▼\")\n",
    "    print(\"▼▼▼▼▼▼以下列表是本廠目前有販售的車輛▼▼▼▼▼▼\")\n",
    "    search=pd.read_csv('data0507.csv',engine='python',encoding='utf8')\n",
    "    \n",
    "    print(search)\n",
    "    \n",
    "    \n",
    "    #刪除需用drop\n",
    "def del_car():\n",
    "    \n",
    "    delcar=pd.read_csv('data0507.csv',engine='python',encoding='utf8')\n",
    "    delcar.drop([int(input(\"你要刪除哪輛車(請輸入數字)\"))],inplace=True)\n",
    "    \n",
    "    fn = 'data0507.csv'#複寫到CSV\n",
    "    with open(fn,'r',newline = '',encoding='utf8') as csvFile:\n",
    "        csvWriter=csv.writer(csvFile)\n",
    "    \n",
    "        \n",
    "    print(delcar)\n",
    "    \n",
    "    \n",
    "    \n",
    "    \n",
    "    \n",
    "#     delcar=pd.read_csv('data0507.csv',engine='python',encoding='utf8')\n",
    "#     print(\"\")\n",
    "#     print(\"▼▼▼▼▼▼你要刪除哪台車子▼▼▼▼▼▼\")\n",
    "#     print(delcar)\n",
    "    \n",
    "#     delcar.drop([int(input(\"請輸入數字\"))],inplace=True)\n",
    "#     print(\"\")\n",
    "#     print(\"你已經刪除完畢\")\n",
    "#     print(\"\")\n",
    "#     print(delcar)\n",
    "   \n",
    "\n",
    "\n",
    "def pic():\n",
    "    pic1 = pd.read_csv('data0507.csv',engine='python',encoding='utf8')\n",
    "    pic1['Car'][0:3]\n",
    "    print(pic)\n",
    "    "
   ]
  },
  {
   "cell_type": "code",
   "execution_count": null,
   "metadata": {},
   "outputs": [],
   "source": []
  },
  {
   "cell_type": "code",
   "execution_count": null,
   "metadata": {},
   "outputs": [],
   "source": []
  },
  {
   "cell_type": "code",
   "execution_count": null,
   "metadata": {},
   "outputs": [],
   "source": []
  },
  {
   "cell_type": "code",
   "execution_count": null,
   "metadata": {},
   "outputs": [],
   "source": []
  },
  {
   "cell_type": "code",
   "execution_count": null,
   "metadata": {},
   "outputs": [],
   "source": []
  },
  {
   "cell_type": "code",
   "execution_count": null,
   "metadata": {},
   "outputs": [],
   "source": []
  }
 ],
 "metadata": {
  "kernelspec": {
   "display_name": "Python 3",
   "language": "python",
   "name": "python3"
  },
  "language_info": {
   "codemirror_mode": {
    "name": "ipython",
    "version": 3
   },
   "file_extension": ".py",
   "mimetype": "text/x-python",
   "name": "python",
   "nbconvert_exporter": "python",
   "pygments_lexer": "ipython3",
   "version": "3.7.6"
  }
 },
 "nbformat": 4,
 "nbformat_minor": 4
}
