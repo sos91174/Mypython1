{
 "cells": [
  {
   "cell_type": "code",
   "execution_count": 12,
   "metadata": {},
   "outputs": [
    {
     "ename": "IndentationError",
     "evalue": "unexpected indent (<ipython-input-12-e9005049e830>, line 6)",
     "output_type": "error",
     "traceback": [
      "\u001b[1;36m  File \u001b[1;32m\"<ipython-input-12-e9005049e830>\"\u001b[1;36m, line \u001b[1;32m6\u001b[0m\n\u001b[1;33m    def car_pic():\u001b[0m\n\u001b[1;37m    ^\u001b[0m\n\u001b[1;31mIndentationError\u001b[0m\u001b[1;31m:\u001b[0m unexpected indent\n"
     ]
    }
   ],
   "source": [
    "from matplotlib import pyplot as plt\n",
    "import pandas as pd\n",
    "import numpy as np\n",
    "import csv\n",
    "\n",
    "def car_pic():\n",
    "\n",
    "# x = [70,80,90,100,110,120,130,140,150]\n",
    "y = [1980,570,1000,300,560,300,120,80,60]\n",
    "\n",
    "t1 = [\"Ferrari\",\"Maserrati\",\"Porsche\",\"Tesla\",\"BMW\",\"BENZ\",\n",
    "     \"CR-V\",\"HR-V\",\"Yaris\"]\n",
    "\n",
    "plt.figure(figsize = (8,4))\n",
    "\n",
    "plt.bar(x, y,width = 5,tick_label=t1, label = \"(\\/)@.@(\\/)\")\n",
    "plt.legend()\n",
    "plt.xlabel(\"Car\")\n",
    "plt.ylabel(\"price  (10K)\")\n",
    "plt.title(\"Car yesterday price menu\")\n",
    "\n",
    "\n",
    "plt.show()"
   ]
  },
  {
   "cell_type": "code",
   "execution_count": null,
   "metadata": {},
   "outputs": [],
   "source": []
  },
  {
   "cell_type": "code",
   "execution_count": null,
   "metadata": {},
   "outputs": [],
   "source": []
  },
  {
   "cell_type": "code",
   "execution_count": null,
   "metadata": {},
   "outputs": [],
   "source": []
  }
 ],
 "metadata": {
  "kernelspec": {
   "display_name": "Python 3",
   "language": "python",
   "name": "python3"
  },
  "language_info": {
   "codemirror_mode": {
    "name": "ipython",
    "version": 3
   },
   "file_extension": ".py",
   "mimetype": "text/x-python",
   "name": "python",
   "nbconvert_exporter": "python",
   "pygments_lexer": "ipython3",
   "version": "3.7.6"
  }
 },
 "nbformat": 4,
 "nbformat_minor": 4
}
